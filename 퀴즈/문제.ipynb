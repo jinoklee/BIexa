{
 "cells": [
  {
   "cell_type": "markdown",
   "metadata": {},
   "source": [
    "****************\n",
    "### 아래 코드는 복사(ctrl+c) &붙히기(ctrl+v) 가 가능합니다.\n",
    "*************************\n",
    "\n",
    "### * 주피터노트북 또는 colab 사용이 어려운 분들은 \n",
    "### - 1~3번까지는 코드를 안돌리는 대신에, 화면에 출력될 답을 \n",
    "### - 4~10번까지는 결과없이 바이오파이썬 명령어(코드)만 보내도 됩니다.\n",
    "\n",
    "********************\n",
    "### * 어떤 형식로든 상관없이 답을 보내면 됩니다.\n",
    "### - 메일로 직접, 워드, 메모장, MS word, 캡쳐, \n",
    "### - 주피터노트북 download as (html), colab downlaod (ipynb) \n",
    "\n",
    "*****************\n",
    "*****************\n",
    "\n",
    "### * 보낼곳\n",
    "### 이제선선생님(je0072@korea.kr)\n",
    "### 이진옥(jinoklee.01@gmail.com)"
   ]
  },
  {
   "cell_type": "code",
   "execution_count": null,
   "metadata": {},
   "outputs": [],
   "source": [
    "# 문제 1. 아래 코드를 출력한 결과를 보여주세요.\n",
    "# 자료형 : 문자열 (str)\n",
    "\n",
    "Met=\"ATG\"\n",
    "Trp=\"TGG\" *10\n",
    "His=\"CAT\"\n",
    "\n",
    "seq = Met+Trp+His\n",
    "print(seq)"
   ]
  },
  {
   "cell_type": "code",
   "execution_count": null,
   "metadata": {},
   "outputs": [],
   "source": [
    "# 문제 2. 아래 코드를 출력한 결과를 보여주세요.\n",
    "#if - elif-else 조건문 (단순조건) 이용하여 파이썬으로 상보적 서열만들기\n",
    "\n",
    "seq=\"AGTTTATAGCACGTCACGTACTTAACG\"  \n",
    "new_seq=\"\"\n",
    "\n",
    "for s in seq:\n",
    "    if s == \"A\":\n",
    "        new_seq +=\"T\"\n",
    "    elif s == \"C\":\n",
    "        new_seq +=\"G\"\n",
    "    elif s == \"G\":\n",
    "        new_seq +=\"C\"\n",
    "    elif s == \"T\":\n",
    "        new_seq +=\"A\"\n",
    "        \n",
    "print(\"서열:\",seq)\n",
    "print(\"상보적 서열:\", new_seq)"
   ]
  },
  {
   "cell_type": "code",
   "execution_count": null,
   "metadata": {},
   "outputs": [],
   "source": [
    "# 문제 3. 아래 코드를 출력한 결과를 보여주세요.\n",
    "#  dic을 이용하여 파이썬으로 서열 만들기\n",
    "\n",
    "seq = \"AGTTTATAGCCGATCATCGAC\"\n",
    "comp_dic = {'A':'T', 'C':'G','G':'C','T','A'}\n",
    "como_seq = \"\"\n",
    "\n",
    "for s in seq:\n",
    "    comp_seq += comp_dic[s]\n",
    "\n",
    "revcomp_seq = comp_seq[::-1]\n",
    "\n",
    "print(\"서열:\",seq)\n",
    "print(\"상보적 서열:\",comp_seq)\n",
    "print(\"역상보적 서열\",revcomp_seq)"
   ]
  },
  {
   "cell_type": "code",
   "execution_count": null,
   "metadata": {},
   "outputs": [],
   "source": [
    "from Bio.Seq import Seq\n",
    "seq = Seq(\"TTCCACAACATTCCACCAAGCTCTGCAGGATCCCAGAGTAAGAGGCCTGTATTTTCCTGCTGGTGGCTCCAGTTCCGGAACAGTGAACCCTGTTCCGACTACTGCCTCACTC\")\n",
    "\n",
    "#문제 4. seq 염기서열 중  A 의 개수는? \n",
    "# 힌트 : print(seq.?(\"A\"))\n",
    "\n",
    "\n",
    "#문제 5. seq 염기서열의 총 개수는?\n",
    "# 힌트 : print(len())\n",
    "\n",
    "\n",
    "#문제 6. seq 염기서열의 상보적 서열은? \n",
    "#힌트 : print(seq.?())\n",
    "\n",
    "\n",
    "#문제 7. seq 염기서열의 RNA 서열은?\n",
    "# 힌트 : print(seq.?())\n",
    "\n",
    "\n",
    "#문제 8. seq 염기서열의 아미노산 서열은 ?\n",
    "# 힌트 : print(seq.?())\n",
    "\n",
    "\n",
    "from Bio.SeqUtils import GC\n",
    "#문제 9. seq 염기서열의 GC 함량 은 몇 % 인가? \n",
    "\n",
    "\n",
    "from Bio.SeqUtils import MeltingTemp as mt\n",
    "#문제 10: seq 염기서열의 Tm 값은 ? \n"
   ]
  }
 ],
 "metadata": {
  "kernelspec": {
   "display_name": "Python 3 (ipykernel)",
   "language": "python",
   "name": "python3"
  },
  "language_info": {
   "codemirror_mode": {
    "name": "ipython",
    "version": 3
   },
   "file_extension": ".py",
   "mimetype": "text/x-python",
   "name": "python",
   "nbconvert_exporter": "python",
   "pygments_lexer": "ipython3",
   "version": "3.9.12"
  }
 },
 "nbformat": 4,
 "nbformat_minor": 4
}
