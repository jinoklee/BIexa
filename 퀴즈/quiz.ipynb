{
 "cells": [
  {
   "cell_type": "code",
   "execution_count": null,
   "metadata": {},
   "outputs": [],
   "source": [
    "# 문제 1. 아래 코드를 출력한 결과를 보여주세요.\n",
    "# 자료형 : 문자열 (str)\n",
    "\n",
    "Met=\"ATG\"\n",
    "Trp=\"TGG\" *10\n",
    "His=\"CAT\"\n",
    "\n",
    "seq = Met+Trp+His\n",
    "print(seq)"
   ]
  },
  {
   "cell_type": "code",
   "execution_count": null,
   "metadata": {},
   "outputs": [],
   "source": [
    "# 문제 2. 아래 코드를 출력한 결과를 보여주세요.\n",
    "#if - elif-else 조건문 (단순조건) 이용하여 파이썬으로 상보적 서열만들기\n",
    "\n",
    "seq=\"AGTTTATAGCACGTCACGTACTTAACG\"  \n",
    "new_seq=\"\"\n",
    "\n",
    "for s in seq:\n",
    "    if s == \"A\":\n",
    "        new_seq +=\"T\"\n",
    "    elif s == \"C\":\n",
    "        new_seq +=\"G\"\n",
    "    elif s == \"G\":\n",
    "        new_seq +=\"C\"\n",
    "    elif s == \"T\":\n",
    "        new_seq +=\"A\"\n",
    "        \n",
    "print(\"서열:\",seq)\n",
    "print(\"상보적 서열:\", new_seq)"
   ]
  },
  {
   "cell_type": "code",
   "execution_count": null,
   "metadata": {},
   "outputs": [],
   "source": [
    "# 문제 3. 아래 코드를 출력한 결과를 보여주세요.\n",
    "#  dic을 이용하여 파이썬으로 서열 만들기\n",
    "\n",
    "seq = \"AGTTTATAGCCGATCATCGAC\"\n",
    "comp_dic = {'A':'T', 'C':'G','G':'C','T','A'}\n",
    "como_seq = \"\"\n",
    "\n",
    "for s in seq:\n",
    "    comp_seq += comp_dic[s]\n",
    "\n",
    "revcomp_seq = comp_seq[::-1]\n",
    "\n",
    "print(\"서열:\",seq)\n",
    "print(\"상보적 서열:\",comp_seq)\n",
    "print(\"역상보적 서열\",revcomp_seq)"
   ]
  },
  {
   "cell_type": "code",
   "execution_count": null,
   "metadata": {},
   "outputs": [],
   "source": [
    "from Bio.Seq import Seq\n",
    "seq = Seq(\"TTCCACAACATTCCACCAAGCTCTGCAGGATCCCAGAGTAAGAGGCCTGTATTTTCCTGCTGGTGGCTCCAGTTCCGGAACAGTGAACCCTGTTCCGACTACTGCCTCACTCATCTCGTCAATCTTCTCGAGGATTGGGG\")\n",
    "\n",
    "#문제 4. 염기  A 의 개수는? \n",
    "# 힌트 : print(seq.?(\"A\"))\n",
    "\n",
    "\n",
    "#문제 5. seq의 서열길이(총 염기서열)의 개수는?\n",
    "# 힌트 : print(len())\n",
    "\n",
    "\n",
    "#문제 6. seq의 상보적 서열은? \n",
    "#힌트 : print(seq.?())\n",
    "\n",
    "\n",
    "#문제 7. seq 의 RNA 서열은?\n",
    "# 힌트 : print(seq.?())\n",
    "\n",
    "\n",
    "#문제 8. seq 의 아미노산 서열은 ?\n",
    "# 힌트 : print(seq.?())\n",
    "\n",
    "\n",
    "from Bio.SeqUtils import GC\n",
    "#문제 9. GC 함량 은 몇 % 인가? \n",
    "\n",
    "\n",
    "from Bio.SeqUtils import MeltingTemp as mt\n",
    "#문제 10: Tm 값은 ? \n"
   ]
  }
 ],
 "metadata": {
  "kernelspec": {
   "display_name": "Python 3 (ipykernel)",
   "language": "python",
   "name": "python3"
  },
  "language_info": {
   "codemirror_mode": {
    "name": "ipython",
    "version": 3
   },
   "file_extension": ".py",
   "mimetype": "text/x-python",
   "name": "python",
   "nbconvert_exporter": "python",
   "pygments_lexer": "ipython3",
   "version": "3.9.12"
  }
 },
 "nbformat": 4,
 "nbformat_minor": 4
}
